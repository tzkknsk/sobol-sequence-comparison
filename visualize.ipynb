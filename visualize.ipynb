{
 "cells": [
  {
   "cell_type": "code",
   "execution_count": null,
   "metadata": {},
   "outputs": [],
   "source": [
    "import torch\n",
    "from torch.quasirandom import SobolEngine\n",
    "import matplotlib.pyplot as plt\n",
    "\n",
    "# スクランブルなし（scramble=False）で点を生成\n",
    "engine_no_scramble = SobolEngine(2, scramble=False)\n",
    "points_no_scramble = engine_no_scramble.draw(256).numpy()\n",
    "\n",
    "# スクランブルあり（scramble=True）で点を生成\n",
    "engine_scramble = SobolEngine(2, scramble=True)\n",
    "points_scramble = engine_scramble.draw(256).numpy()\n",
    "\n",
    "plt.figure(figsize=(12, 6))\n",
    "\n",
    "plt.subplot(1, 2, 1)\n",
    "plt.scatter(points_no_scramble[:,0], points_no_scramble[:,1])\n",
    "plt.title('Sobol sequence without scrambling')\n",
    "\n",
    "plt.subplot(1, 2, 2)\n",
    "plt.scatter(points_scramble[:,0], points_scramble[:,1])\n",
    "plt.title('Sobol sequence with scrambling')\n",
    "\n",
    "plt.show()"
   ]
  },
  {
   "cell_type": "code",
   "execution_count": null,
   "metadata": {},
   "outputs": [],
   "source": [
    "# 生成した点を同一プロットに描画\n",
    "plt.figure(figsize=(8, 8))\n",
    "\n",
    "plt.scatter(points_no_scramble[:,0], points_no_scramble[:,1], label='No Scramble')\n",
    "plt.scatter(points_scramble[:,0], points_scramble[:,1], label='Scramble')\n",
    "\n",
    "plt.title('Sobol sequence with and without scrambling')\n",
    "plt.legend()\n",
    "plt.show()\n"
   ]
  }
 ],
 "metadata": {
  "kernelspec": {
   "display_name": ".env",
   "language": "python",
   "name": "python3"
  },
  "language_info": {
   "codemirror_mode": {
    "name": "ipython",
    "version": 3
   },
   "file_extension": ".py",
   "mimetype": "text/x-python",
   "name": "python",
   "nbconvert_exporter": "python",
   "pygments_lexer": "ipython3",
   "version": "3.10.6"
  },
  "orig_nbformat": 4
 },
 "nbformat": 4,
 "nbformat_minor": 2
}
